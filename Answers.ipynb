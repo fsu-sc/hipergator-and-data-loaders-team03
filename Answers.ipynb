{
 "cells": [
  {
   "cell_type": "markdown",
   "id": "541758e8",
   "metadata": {},
   "source": [
    "# Answers to Homework 7\n",
    "____\n",
    "\n",
    "### Folders organization in Hipergator\n",
    "\n",
    "- `team03/data/raw/` - raw data\n",
    "- `team03/data/processed/` - processed data\n",
    "- `team03/data/processed/train/` - training data\n",
    "- `team03/data/processed/train/images/` - training images\n",
    "- `team03/data/processed/test/` - test data\n",
    "- `team03/data/processed/test/images/` - test images\n",
    "- `team03/data/processed/val/` - validation data\n",
    "- `team03/data/processed/val/images/` - validation images\n",
    "\n",
    "Training labels will be in a `.csv` file outside the `/images` folder in each, train, test, validation folder.  \n",
    "\n",
    "\n",
    "- `team03/source/` - source code\n",
    "\n",
    "______\n",
    "\n",
    "### Data Loader"
   ]
  },
  {
   "cell_type": "code",
   "execution_count": 2,
   "id": "e3c8da37",
   "metadata": {},
   "outputs": [],
   "source": [
    "import numpy as np\n",
    "import matplotlib.pyplot as plt\n",
    "import pandas as pd\n",
    "import os\n",
    "import torch\n",
    "from torch.utils.data import Dataset, DataLoader\n",
    "import shutil\n",
    "import pydicom as dicom\n",
    "import cv2\n",
    "import ipywidgets as widgets\n",
    "from IPython.display import display, clear_output, Markdown\n",
    "\n",
    "\n",
    "from MyGenerator import DICOMDataset, plot_batch"
   ]
  },
  {
   "cell_type": "markdown",
   "id": "2bb08408",
   "metadata": {},
   "source": [
    "**Important Note:**  \n",
    "Requires dependencies GDCM, pylibjpeg, pydicom  \n",
    "Code to install:  \n",
    "`conda install -c conda-forge gdcm`  \n",
    "`pip install pylibjpeg pylibjpeg-libjpeg pydicom`     \n",
    "`pip install pylibjpeg`"
   ]
  },
  {
   "cell_type": "code",
   "execution_count": 3,
   "id": "a99c06ca",
   "metadata": {},
   "outputs": [],
   "source": [
    "dataset = DICOMDataset('./train_test', './labels_test2.csv')\n"
   ]
  },
  {
   "cell_type": "code",
   "execution_count": 4,
   "id": "0af20234",
   "metadata": {},
   "outputs": [
    {
     "data": {
      "application/vnd.jupyter.widget-view+json": {
       "model_id": "76276cc0d0f74d26bb7916cb97a34119",
       "version_major": 2,
       "version_minor": 0
      },
      "text/plain": [
       "VBox(children=(IntSlider(value=1, continuous_update=False, description='Batch Size', max=10, min=1), Button(de…"
      ]
     },
     "metadata": {},
     "output_type": "display_data"
    }
   ],
   "source": [
    "batch = widgets.IntSlider(value=1, min=1, max=10, step=1, description='Batch Size', continuous_update=False)\n",
    "button = widgets.Button(description =\"Run Test\")\n",
    "outbutton=widgets.Output()\n",
    "def plotbatch(batch_size, dataset):\n",
    "    dataloader = DataLoader(dataset, batch_size=batch_size, shuffle=True)\n",
    "    for batch in dataloader:\n",
    "        x, y = batch\n",
    "        plot_batch(x, y)\n",
    "        print('Batch size:', x.size())\n",
    "        break\n",
    "def on_button_clicked(val):\n",
    "    with outbutton:\n",
    "        clear_output()\n",
    "        val = batch.value\n",
    "        batch_size = val\n",
    "        plotbatch(batch_size, dataset)\n",
    "\n",
    "button.on_click(on_button_clicked)\n",
    "display (widgets.VBox([batch, button , outbutton]))\n",
    "\n",
    "\n"
   ]
  }
 ],
 "metadata": {
  "kernelspec": {
   "display_name": "Python 3 (ipykernel)",
   "language": "python",
   "name": "python3"
  },
  "language_info": {
   "codemirror_mode": {
    "name": "ipython",
    "version": 3
   },
   "file_extension": ".py",
   "mimetype": "text/x-python",
   "name": "python",
   "nbconvert_exporter": "python",
   "pygments_lexer": "ipython3",
   "version": "3.9.13"
  }
 },
 "nbformat": 4,
 "nbformat_minor": 5
}
