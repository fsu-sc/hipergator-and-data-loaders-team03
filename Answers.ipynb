{
 "cells": [
  {
   "cell_type": "markdown",
   "id": "1b77a784",
   "metadata": {},
   "source": [
    "# Answers to Homework 7\n",
    "____\n",
    "\n",
    "### Folders organization in Hipergator\n",
    "\n",
    "- `team03/data/raw/` - raw data\n",
    "- `team03/data/processed/` - processed data\n",
    "- `team03/data/processed/train/` - training data\n",
    "- `team03/data/processed/train/images/` - training images\n",
    "- `team03/data/processed/test/` - test data\n",
    "- `team03/data/processed/test/images/` - test images\n",
    "- `team03/data/processed/val/` - validation data\n",
    "- `team03/data/processed/val/images/` - validation images\n",
    "\n",
    "Training labels will be in a `.csv` file outside the `/images` folder in each, train, test, validation folder.  \n",
    "\n",
    "\n",
    "- `team03/source/` - source code\n",
    "\n",
    "______\n",
    "\n",
    "### Data Loader"
   ]
  },
  {
   "cell_type": "code",
   "execution_count": null,
   "id": "6762bf93",
   "metadata": {},
   "outputs": [],
   "source": []
  }
 ],
 "metadata": {
  "kernelspec": {
   "display_name": "ECGJupyter",
   "language": "python",
   "name": "ecgjupyter"
  },
  "language_info": {
   "codemirror_mode": {
    "name": "ipython",
    "version": 3
   },
   "file_extension": ".py",
   "mimetype": "text/x-python",
   "name": "python",
   "nbconvert_exporter": "python",
   "pygments_lexer": "ipython3",
   "version": "3.8.15"
  }
 },
 "nbformat": 4,
 "nbformat_minor": 5
}
